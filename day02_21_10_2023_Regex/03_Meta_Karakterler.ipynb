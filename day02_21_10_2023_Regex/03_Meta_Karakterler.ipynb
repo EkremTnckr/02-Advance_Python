{
 "cells": [
  {
   "cell_type": "markdown",
   "metadata": {},
   "source": [
    "### Meta Karakterler \n",
    "[] ---> Belirli  karakterleri kullan  <br>\n",
    "\"[a-m]\" a ile m arasindaki karakterleri ara<br>\n",
    "\n",
    "\\ --> ozel karakteri belirt veya sonraki karakteri dikkate alma       \"\\d\"  <br>\n",
    ". -->satirbasi haric herhangi bir karakter\n",
    "    \"he..o\" karakteri ara  <br>\n",
    "^ ---> ... ile baslayan  \"^hello\" ile baslayan <br>\n",
    "$ --> ...biten  \"$world\" <br.>\n",
    "* --> Sifir ve uzeri sayida eslesme   \"aix*\" baslayan <br>\n",
    "+ -->bir ve uzeri sayida eslesme    \"aix+\" <br>\n",
    "{}..kac haneli sayi oldugunu  \"al{2}\"  <br>\n",
    "| ikisinden biri  \"falls | stays\"<br>\n",
    "() eslesme yada gruplama icin kullanilir.  <br>       "
   ]
  },
  {
   "cell_type": "code",
   "execution_count": 2,
   "metadata": {},
   "outputs": [],
   "source": [
    "import re"
   ]
  },
  {
   "cell_type": "code",
   "execution_count": 3,
   "metadata": {},
   "outputs": [
    {
     "name": "stdout",
     "output_type": "stream",
     "text": [
      "23BH56\n",
      "4Y7UZ\n",
      "34534\n"
     ]
    }
   ],
   "source": [
    "a = [\"23BH56\", \"TY76Z\", \"4Y7UZ\",\"TYUDZ\",\"34534\"]\n",
    "\n",
    "for i in a:\n",
    "    if re.match(\"[0-9]\",i):\n",
    "        print(i)"
   ]
  },
  {
   "cell_type": "code",
   "execution_count": 11,
   "metadata": {},
   "outputs": [
    {
     "name": "stdout",
     "output_type": "stream",
     "text": [
      "TY76Z is valid\n"
     ]
    }
   ],
   "source": [
    "# TY76Z yi bulalim \n",
    "for i in  a:\n",
    "    if re.match(\"[A-Z][A-Z][0-9]\", i):\n",
    "        print(f\"{i} is valid\")"
   ]
  },
  {
   "cell_type": "code",
   "execution_count": 23,
   "metadata": {},
   "outputs": [
    {
     "name": "stdout",
     "output_type": "stream",
     "text": [
      "Aa123\n"
     ]
    }
   ],
   "source": [
    "# ilk karakter herhangi bir deger,ikinci rakam ve kucuk harf\n",
    "\n",
    "a=[\"23BH56\", \"TY76Z\", \"4Y7UZ\",\"TYUDZ\",\"34534\", \"Aa123\"]\n",
    " \n",
    "for i in a:\n",
    "    if re.match(\".[a-z][0-9]\",i):\n",
    "        print(i)"
   ]
  },
  {
   "cell_type": "code",
   "execution_count": 24,
   "metadata": {},
   "outputs": [
    {
     "name": "stdout",
     "output_type": "stream",
     "text": [
      "23BH56\n",
      "34534\n",
      "Aa123\n"
     ]
    }
   ],
   "source": [
    "a=[\"23BH56\", \"TY76Z\", \"4Y7UZ\",\"TYUDZ\",\"34534\", \"Aa123\"]\n",
    " \n",
    "for i in a:\n",
    "    if re.match(\".[a-z0-9]\",i):\n",
    "        print(i)"
   ]
  },
  {
   "cell_type": "code",
   "execution_count": 26,
   "metadata": {},
   "outputs": [
    {
     "name": "stdout",
     "output_type": "stream",
     "text": [
      "['Python', 'Kursu:Python', 'Programlama', 'Rehberiniz', '|', '40', 'saat']\n"
     ]
    }
   ],
   "source": [
    "import re                      \n",
    "str1= \"Python Kursu:Python Programlama Rehberiniz | 40 saat\"\n",
    "result = re.split(\" \",str1)\n",
    "print(result)"
   ]
  },
  {
   "cell_type": "code",
   "execution_count": 27,
   "metadata": {},
   "outputs": [
    {
     "name": "stdout",
     "output_type": "stream",
     "text": [
      "['', 'P', 'y', 't', 'h', 'o', 'n', ' ', 'K', 'u', 'r', 's', 'u', ':', 'P', 'y', 't', 'h', 'o', 'n', ' ', 'P', 'r', 'o', 'g', 'r', 'a', 'm', 'l', 'a', 'm', 'a', ' ', 'R', 'e', 'h', 'b', 'e', 'r', 'i', 'n', 'i', 'z', ' ', '|', ' ', '4', '0', ' ', 's', 'a', 'a', 't', '']\n"
     ]
    }
   ],
   "source": [
    "import re                      \n",
    "str1= \"Python Kursu:Python Programlama Rehberiniz | 40 saat\"\n",
    "result = re.split(\"\",str1)\n",
    "print(result)"
   ]
  },
  {
   "cell_type": "code",
   "execution_count": 28,
   "metadata": {},
   "outputs": [
    {
     "name": "stdout",
     "output_type": "stream",
     "text": [
      "['Python Kursu:Python Programlama ', 'ehberiniz | 40 saat']\n"
     ]
    }
   ],
   "source": [
    "import re                      \n",
    "str1= \"Python Kursu:Python Programlama Rehberiniz | 40 saat\"\n",
    "result = re.split(\"R\",str1)\n",
    "print(result)"
   ]
  },
  {
   "cell_type": "code",
   "execution_count": 30,
   "metadata": {},
   "outputs": [
    {
     "name": "stdout",
     "output_type": "stream",
     "text": [
      "Python-Kursu:Python-Programlama-Rehberiniz-|-40-saat\n"
     ]
    }
   ],
   "source": [
    "import re                      \n",
    "str1= \"Python Kursu:Python Programlama Rehberiniz | 40 saat\"\n",
    "result = re.sub(\" \", \"-\",str1)\n",
    "print(result)"
   ]
  },
  {
   "cell_type": "code",
   "execution_count": 31,
   "metadata": {},
   "outputs": [
    {
     "name": "stdout",
     "output_type": "stream",
     "text": [
      "['a', 'a', 'a', 'b', 'a', 'a']\n"
     ]
    }
   ],
   "source": [
    "import re                      \n",
    "str1= \"Python Kursu:Python Programlama Rehberiniz | 40 saat\"\n",
    "result = re.findall(\"[abc]\", str1)\n",
    "print(result)"
   ]
  },
  {
   "cell_type": "code",
   "execution_count": 32,
   "metadata": {},
   "outputs": [
    {
     "name": "stdout",
     "output_type": "stream",
     "text": [
      "['t', 's', 't', 'a', 'a', 'a', 's', 'a', 'a', 't']\n"
     ]
    }
   ],
   "source": [
    "import re                      \n",
    "str1= \"Python Kursu:Python Programlama Rehberiniz | 40 saat\"\n",
    "result = re.findall(\"[sat]\", str1)\n",
    "print(result)"
   ]
  },
  {
   "cell_type": "code",
   "execution_count": 33,
   "metadata": {},
   "outputs": [
    {
     "name": "stdout",
     "output_type": "stream",
     "text": [
      "['a', 'a', 'a', 'e', 'b', 'e', 'a', 'a']\n"
     ]
    }
   ],
   "source": [
    "import re                      \n",
    "str1= \"Python Kursu:Python Programlama Rehberiniz | 40 saat\"\n",
    "result = re.findall(\"[a-e]\", str1)\n",
    "print(result)"
   ]
  },
  {
   "cell_type": "code",
   "execution_count": 34,
   "metadata": {},
   "outputs": [
    {
     "name": "stdout",
     "output_type": "stream",
     "text": [
      "['4', '0']\n"
     ]
    }
   ],
   "source": [
    "import re                      \n",
    "str1= \"Python Kursu:Python Programlama Rehberiniz | 40 saat\"\n",
    "result = re.findall(\"[0-5]\", str1)\n",
    "print(result)"
   ]
  },
  {
   "cell_type": "code",
   "execution_count": 35,
   "metadata": {},
   "outputs": [
    {
     "name": "stdout",
     "output_type": "stream",
     "text": [
      "['P', 'y', 't', 'h', 'o', 'n', ' ', 'K', 'u', 'r', 's', 'u', ':', 'P', 'y', 't', 'h', 'o', 'n', ' ', 'P', 'r', 'o', 'g', 'r', 'm', 'l', 'm', ' ', 'R', 'e', 'h', 'e', 'r', 'i', 'n', 'i', 'z', ' ', '|', ' ', '4', '0', ' ', 's', 't']\n"
     ]
    }
   ],
   "source": [
    "import re                      \n",
    "str1= \"Python Kursu:Python Programlama Rehberiniz | 40 saat\"\n",
    "result = re.findall(\"[^abc]\", str1)\n",
    "print(result)"
   ]
  },
  {
   "cell_type": "code",
   "execution_count": 36,
   "metadata": {},
   "outputs": [
    {
     "name": "stdout",
     "output_type": "stream",
     "text": [
      "['P', 'y', 't', 'h', 'o', 'n', ' ', 'K', 'u', 'r', 's', 'u', ':', 'P', 'y', 't', 'h', 'o', 'n', ' ', 'P', 'r', 'o', 'g', 'r', 'a', 'm', 'l', 'a', 'm', 'a', ' ', 'R', 'e', 'h', 'b', 'e', 'r', 'i', 'n', 'i', 'z', ' ', '|', ' ', ' ', 's', 'a', 'a', 't']\n"
     ]
    }
   ],
   "source": [
    "import re                      \n",
    "str1= \"Python Kursu:Python Programlama Rehberiniz | 40 saat\"\n",
    "result = re.findall(\"[^0-9]\", str1)\n",
    "print(result)"
   ]
  },
  {
   "cell_type": "code",
   "execution_count": 1,
   "metadata": {},
   "outputs": [
    {
     "name": "stdout",
     "output_type": "stream",
     "text": [
      "['P', 'y', 't', 'h', 'o', 'n', ' ', 'K', 'u', 'r', 's', 'u', ':', 'P', 'y', 't', 'h', 'o', 'n', ' ', 'P', 'r', 'o', 'g', 'r', 'm', 'l', 'm', ' ', 'R', 'e', 'h', 'e', 'r', 'i', 'n', 'i', 'z', ' ', '|', ' ', '4', '0', ' ', 's', 't']\n"
     ]
    }
   ],
   "source": [
    "import re                      \n",
    "str1= \"Python Kursu:Python Programlama Rehberiniz | 40 saat\"\n",
    "result = re.findall(\"[^abc]\", str1)\n",
    "print(result)"
   ]
  },
  {
   "cell_type": "code",
   "execution_count": 2,
   "metadata": {},
   "outputs": [
    {
     "name": "stdout",
     "output_type": "stream",
     "text": [
      "['Pyt', 'hon', ' Ku', 'rsu', ':Py', 'tho', 'n P', 'rog', 'ram', 'lam', 'a R', 'ehb', 'eri', 'niz', ' | ', '40 ', 'saa']\n"
     ]
    }
   ],
   "source": [
    "import re                      \n",
    "str1= \"Python Kursu:Python Programlama Rehberiniz | 40 saat\"\n",
    "result = re.findall(\"...\", str1)\n",
    "print(result)"
   ]
  },
  {
   "cell_type": "code",
   "execution_count": 39,
   "metadata": {},
   "outputs": [
    {
     "name": "stdout",
     "output_type": "stream",
     "text": [
      "['a ']\n"
     ]
    }
   ],
   "source": [
    "import re                      \n",
    "str1= \"Python Kursu:Python Programlama Rehberiniz | 40 saat\"\n",
    "result = re.findall(\"(a | b |c)\", str1)\n",
    "print(result)"
   ]
  },
  {
   "cell_type": "code",
   "execution_count": 40,
   "metadata": {},
   "outputs": [
    {
     "name": "stdout",
     "output_type": "stream",
     "text": [
      "['10/11/2023', '22/11/2023']\n"
     ]
    }
   ],
   "source": [
    "text =\"Toplanti 10/11/2023 tarihinde yapilacaktir.Etkinlik ise 22/11/2023 tarihinde gerceklesecektir.\"\n",
    "pattern= r\"\\d{2}/\\d{2}/\\d{4}\"\n",
    "matches =re.findall(pattern,text)\n",
    "print(matches)"
   ]
  },
  {
   "cell_type": "code",
   "execution_count": 42,
   "metadata": {},
   "outputs": [
    {
     "name": "stdout",
     "output_type": "stream",
     "text": [
      "['123-45-6789']\n"
     ]
    }
   ],
   "source": [
    "text =\"Bir kisinin SSN numarasi 123-45-6789' dur.\"\n",
    "pattern =r\"\\b\\d{3}-\\d{2}-\\d{4}\\b\"\n",
    "matches =re.findall(pattern,text)\n",
    "print(matches)"
   ]
  },
  {
   "cell_type": "code",
   "execution_count": 6,
   "metadata": {},
   "outputs": [
    {
     "name": "stdout",
     "output_type": "stream",
     "text": [
      "['user@example.com ']\n"
     ]
    }
   ],
   "source": [
    "text =\"Iletisim icin lutfen benim e-posta adresim olan user@example.com adresime yazin\"\n",
    "pattern = r\"\\b[A-Za-z0-9._%+-]+@[A-Za-z0-9.-]+\\.[A-Z | a-z]{2,7}\\b\"\n",
    "matches =re.findall(pattern,text,re.IGNORECASE) \n",
    "print(matches)"
   ]
  },
  {
   "cell_type": "code",
   "execution_count": null,
   "metadata": {},
   "outputs": [],
   "source": []
  }
 ],
 "metadata": {
  "kernelspec": {
   "display_name": "Python 3",
   "language": "python",
   "name": "python3"
  },
  "language_info": {
   "codemirror_mode": {
    "name": "ipython",
    "version": 3
   },
   "file_extension": ".py",
   "mimetype": "text/x-python",
   "name": "python",
   "nbconvert_exporter": "python",
   "pygments_lexer": "ipython3",
   "version": "3.12.1"
  }
 },
 "nbformat": 4,
 "nbformat_minor": 2
}
