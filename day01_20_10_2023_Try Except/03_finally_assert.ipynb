{
 "cells": [
  {
   "cell_type": "markdown",
   "metadata": {},
   "source": [
    "####  finally\n",
    "Veri tabani islemleri varsa ve yapilan islemler kontrol edildikten sonra ramdan gitsin isteniyorsa finally bunun icin kullanilir."
   ]
  },
  {
   "cell_type": "code",
   "execution_count": 1,
   "metadata": {},
   "outputs": [
    {
     "name": "stdout",
     "output_type": "stream",
     "text": [
      "Bolum degeri 0 olamaz\n",
      "bu her sekilde calisacak,amaci veri tabani baglantisini kesmek\n"
     ]
    }
   ],
   "source": [
    "try:\n",
    "    a = int(input(\"birinci sayiyi giriniz\"))\n",
    "    b = int(input(\"ikinci sayiyi giriniz\"))\n",
    "    print(a /b)\n",
    "except ValueError:\n",
    "    print(\"lutfen tamsayi degeri giriniz\")\n",
    "except ZeroDivisionError:\n",
    "    print(\"Bolum degeri 0 olamaz\")\n",
    "    \n",
    "finally:\n",
    "    print(\"bu her sekilde calisacak,amaci veri tabani baglantisini kesmek\")"
   ]
  },
  {
   "cell_type": "code",
   "execution_count": 2,
   "metadata": {},
   "outputs": [
    {
     "name": "stdout",
     "output_type": "stream",
     "text": [
      "bu uyari cikiyorsa 2.girilen degert 0 dir.\n",
      "islem devam eder\n"
     ]
    }
   ],
   "source": [
    "x =input(\"bir sayi giriniz\")\n",
    "y = input(\"baska bir sayi giriniz\")\n",
    "\n",
    "try:\n",
    "    a =int(x)/ int(y)\n",
    "except ValueError:\n",
    "    print(\"bu uyari cikiyorsa tamsayi formatinda deger girmediginiz anlasilir\")\n",
    "except ZeroDivisionError:\n",
    "    print(\"bu uyari cikiyorsa 2.girilen degert 0 dir.\")\n",
    "else:\n",
    "    print(a ** 2)\n",
    "finally:\n",
    "    print(\"islem devam eder\")"
   ]
  },
  {
   "cell_type": "code",
   "execution_count": 1,
   "metadata": {},
   "outputs": [
    {
     "name": "stdout",
     "output_type": "stream",
     "text": [
      "bu uyari cikiyorsa tamsayi formatinda deger girmediginiz anlasilir\n",
      "islem devam eder\n",
      "0.6400000000000001\n",
      "islem devam eder\n"
     ]
    }
   ],
   "source": [
    "while True:\n",
    "    \n",
    "    x =input(\"bir sayi giriniz\")\n",
    "    y = input(\"baska bir sayi giriniz\")\n",
    "\n",
    "    try:\n",
    "        a =int(x)/ int(y)\n",
    "    except ValueError:\n",
    "        print(\"bu uyari cikiyorsa tamsayi formatinda deger girmediginiz anlasilir\")\n",
    "    except ZeroDivisionError:\n",
    "        print(\"bu uyari cikiyorsa 2.girilen degert 0 dir.\")\n",
    "    else:\n",
    "        print(a ** 2)\n",
    "        break \n",
    "    finally:\n",
    "        print(\"islem devam eder\")"
   ]
  },
  {
   "cell_type": "markdown",
   "metadata": {},
   "source": [
    "soru : liste =[5,\"aa15\",15, \"asdeddcds48\",48 ] <br>\n",
    "liste icindeki int elemanlari donduren try except li kodu yaziniz."
   ]
  },
  {
   "cell_type": "code",
   "execution_count": 3,
   "metadata": {},
   "outputs": [
    {
     "name": "stdout",
     "output_type": "stream",
     "text": [
      "buradaki hata:invalid literal for int() with base 10: 'aa15'\n",
      "buradaki hata:invalid literal for int() with base 10: 'asdeddcds48'\n",
      "[5, 15, 48]\n"
     ]
    }
   ],
   "source": [
    "liste =[5,\"aa15\",15, \"asdeddcds48\",48 ]\n",
    "\n",
    "new_list =[]\n",
    "\n",
    "for i in liste:\n",
    "    try:\n",
    "        x =int(i)\n",
    "    except Exception as hata:\n",
    "        print(f\"buradaki hata:{hata}\")\n",
    "        continue\n",
    "    else:\n",
    "        new_list.append(i)\n",
    "print(new_list)        "
   ]
  },
  {
   "cell_type": "markdown",
   "metadata": {},
   "source": [
    "soru : bir faktoriyel fonksiyonu yaziniz.<br>\n",
    "try except blogu kullanarak fonksiyonu calistirdiginizi gosterin"
   ]
  },
  {
   "cell_type": "code",
   "execution_count": 4,
   "metadata": {},
   "outputs": [],
   "source": [
    "def faktoriyel(x):\n",
    "    try:\n",
    "        assert x >= 0;\"negatif sayilarin faktoriyeli aranmaz\"\n",
    "        carpim =1\n",
    "        for i in range(x, 0 , -1):\n",
    "            carpim *= i    \n",
    "        return carpim \n",
    "    except Exception as hata:\n",
    "        return hata     "
   ]
  },
  {
   "cell_type": "code",
   "execution_count": 5,
   "metadata": {},
   "outputs": [
    {
     "data": {
      "text/plain": [
       "120"
      ]
     },
     "execution_count": 5,
     "metadata": {},
     "output_type": "execute_result"
    }
   ],
   "source": [
    "faktoriyel(5)"
   ]
  },
  {
   "cell_type": "code",
   "execution_count": 6,
   "metadata": {},
   "outputs": [
    {
     "data": {
      "text/plain": [
       "AssertionError()"
      ]
     },
     "execution_count": 6,
     "metadata": {},
     "output_type": "execute_result"
    }
   ],
   "source": [
    "faktoriyel(-5)"
   ]
  },
  {
   "cell_type": "code",
   "execution_count": 2,
   "metadata": {},
   "outputs": [
    {
     "name": "stdout",
     "output_type": "stream",
     "text": [
      "girdiginiz sayi: -56\n"
     ]
    },
    {
     "ename": "AssertionError",
     "evalue": "sayi pozitif olmalidir",
     "output_type": "error",
     "traceback": [
      "\u001b[1;31m---------------------------------------------------------------------------\u001b[0m",
      "\u001b[1;31mAssertionError\u001b[0m                            Traceback (most recent call last)",
      "Cell \u001b[1;32mIn[2], line 3\u001b[0m\n\u001b[0;32m      1\u001b[0m sayi \u001b[38;5;241m=\u001b[39m \u001b[38;5;28mint\u001b[39m(\u001b[38;5;28minput\u001b[39m(\u001b[38;5;124m\"\u001b[39m\u001b[38;5;124mbir sayi giriniz\u001b[39m\u001b[38;5;124m\"\u001b[39m))\n\u001b[0;32m      2\u001b[0m \u001b[38;5;28mprint\u001b[39m(\u001b[38;5;124m\"\u001b[39m\u001b[38;5;124mgirdiginiz sayi:\u001b[39m\u001b[38;5;124m\"\u001b[39m, sayi)\n\u001b[1;32m----> 3\u001b[0m \u001b[38;5;28;01massert\u001b[39;00m sayi \u001b[38;5;241m>\u001b[39m \u001b[38;5;241m0\u001b[39m,\u001b[38;5;124m\"\u001b[39m\u001b[38;5;124msayi pozitif olmalidir\u001b[39m\u001b[38;5;124m\"\u001b[39m\n",
      "\u001b[1;31mAssertionError\u001b[0m: sayi pozitif olmalidir"
     ]
    }
   ],
   "source": [
    "sayi = int(input(\"bir sayi giriniz\"))\n",
    "print(\"girdiginiz sayi:\", sayi)\n",
    "assert sayi > 0,\"sayi pozitif olmalidir\""
   ]
  },
  {
   "cell_type": "code",
   "execution_count": 3,
   "metadata": {},
   "outputs": [
    {
     "ename": "AssertionError",
     "evalue": "kelimekelimesi metinde bulunamadi",
     "output_type": "error",
     "traceback": [
      "\u001b[1;31m---------------------------------------------------------------------------\u001b[0m",
      "\u001b[1;31mAssertionError\u001b[0m                            Traceback (most recent call last)",
      "Cell \u001b[1;32mIn[3], line 4\u001b[0m\n\u001b[0;32m      1\u001b[0m metin \u001b[38;5;241m=\u001b[39m \u001b[38;5;124m\"\u001b[39m\u001b[38;5;124mmerhaba bu bir ornek metindir\u001b[39m\u001b[38;5;124m\"\u001b[39m\n\u001b[0;32m      2\u001b[0m aranan_kelime \u001b[38;5;241m=\u001b[39m \u001b[38;5;124m\"\u001b[39m\u001b[38;5;124mkelime\u001b[39m\u001b[38;5;124m\"\u001b[39m\n\u001b[1;32m----> 4\u001b[0m \u001b[38;5;28;01massert\u001b[39;00m aranan_kelime \u001b[38;5;129;01min\u001b[39;00m metin,\u001b[38;5;124mf\u001b[39m\u001b[38;5;124m\"\u001b[39m\u001b[38;5;132;01m{\u001b[39;00maranan_kelime\u001b[38;5;132;01m}\u001b[39;00m\u001b[38;5;124mkelimesi metinde bulunamadi\u001b[39m\u001b[38;5;124m\"\u001b[39m\n",
      "\u001b[1;31mAssertionError\u001b[0m: kelimekelimesi metinde bulunamadi"
     ]
    }
   ],
   "source": [
    "metin = \"merhaba bu bir ornek metindir\"\n",
    "aranan_kelime = \"kelime\"\n",
    "\n",
    "assert aranan_kelime in metin,f\"{aranan_kelime}kelimesi metinde bulunamadi\""
   ]
  },
  {
   "cell_type": "code",
   "execution_count": 5,
   "metadata": {},
   "outputs": [],
   "source": [
    "giris =input(\"Merhaba!Adin ne\")\n",
    "if len(giris)== 0:\n",
    "    raise AssertionError(\"Isim bolumu bos birakilamaz\")"
   ]
  },
  {
   "cell_type": "code",
   "execution_count": 7,
   "metadata": {},
   "outputs": [
    {
     "name": "stdout",
     "output_type": "stream",
     "text": [
      "hos geldiniz\n"
     ]
    }
   ],
   "source": [
    "giris =input(\"Merhaba!Adin ne\")\n",
    "assert len(giris)!= 0,\"isim bolumu bos birakilamaz\"\n",
    "print(\"hos geldiniz\")    "
   ]
  },
  {
   "cell_type": "code",
   "execution_count": null,
   "metadata": {},
   "outputs": [],
   "source": []
  }
 ],
 "metadata": {
  "kernelspec": {
   "display_name": "Python 3",
   "language": "python",
   "name": "python3"
  },
  "language_info": {
   "codemirror_mode": {
    "name": "ipython",
    "version": 3
   },
   "file_extension": ".py",
   "mimetype": "text/x-python",
   "name": "python",
   "nbconvert_exporter": "python",
   "pygments_lexer": "ipython3",
   "version": "3.12.1"
  }
 },
 "nbformat": 4,
 "nbformat_minor": 2
}
