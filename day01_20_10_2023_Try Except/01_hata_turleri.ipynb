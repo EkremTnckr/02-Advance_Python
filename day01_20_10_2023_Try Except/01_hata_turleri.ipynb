{
 "cells": [
  {
   "cell_type": "markdown",
   "metadata": {},
   "source": [
    "## Hata Turleri\n",
    "Bazen programlarimizi olustururken bazi kodlar vardir ki,bu kodlar bize program icinde belli hatalara yol acabilir.<br>\n",
    "Bu hatalar; mantiksal programlama hatalari,degisken tipleriyle ilgili hatalar veya cok daha farkli hata cesitleri olabilir.<br>\n",
    "1-Syntax hatasi<br>\n",
    "2-Mantik Hatasi<br>"
   ]
  },
  {
   "cell_type": "code",
   "execution_count": null,
   "metadata": {},
   "outputs": [],
   "source": []
  }
 ],
 "metadata": {
  "language_info": {
   "name": "python"
  }
 },
 "nbformat": 4,
 "nbformat_minor": 2
}
