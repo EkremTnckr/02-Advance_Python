{
 "cells": [
  {
   "cell_type": "markdown",
   "metadata": {},
   "source": [
    "## try & except "
   ]
  },
  {
   "cell_type": "code",
   "execution_count": 1,
   "metadata": {},
   "outputs": [
    {
     "data": {
      "text/plain": [
       "8"
      ]
     },
     "execution_count": 1,
     "metadata": {},
     "output_type": "execute_result"
    }
   ],
   "source": [
    "3 + 5 "
   ]
  },
  {
   "cell_type": "code",
   "execution_count": 3,
   "metadata": {},
   "outputs": [
    {
     "ename": "TypeError",
     "evalue": "can only concatenate str (not \"int\") to str",
     "output_type": "error",
     "traceback": [
      "\u001b[1;31m---------------------------------------------------------------------------\u001b[0m",
      "\u001b[1;31mTypeError\u001b[0m                                 Traceback (most recent call last)",
      "Cell \u001b[1;32mIn[3], line 1\u001b[0m\n\u001b[1;32m----> 1\u001b[0m \u001b[38;5;124;43m\"\u001b[39;49m\u001b[38;5;124;43m4\u001b[39;49m\u001b[38;5;124;43m\"\u001b[39;49m\u001b[43m \u001b[49m\u001b[38;5;241;43m+\u001b[39;49m\u001b[43m \u001b[49m\u001b[38;5;241;43m5\u001b[39;49m   \u001b[38;5;66;03m# hata verir  type error hatasi \u001b[39;00m\n",
      "\u001b[1;31mTypeError\u001b[0m: can only concatenate str (not \"int\") to str"
     ]
    }
   ],
   "source": [
    "\"4\" + 5   # hata verir  type error hatasi "
   ]
  },
  {
   "cell_type": "code",
   "execution_count": 5,
   "metadata": {},
   "outputs": [
    {
     "ename": "ValueError",
     "evalue": "invalid literal for int() with base 10: 'yirmi'",
     "output_type": "error",
     "traceback": [
      "\u001b[1;31m---------------------------------------------------------------------------\u001b[0m",
      "\u001b[1;31mValueError\u001b[0m                                Traceback (most recent call last)",
      "Cell \u001b[1;32mIn[5], line 1\u001b[0m\n\u001b[1;32m----> 1\u001b[0m x \u001b[38;5;241m=\u001b[39m \u001b[38;5;28;43mint\u001b[39;49m\u001b[43m(\u001b[49m\u001b[38;5;28;43minput\u001b[39;49m\u001b[43m(\u001b[49m\u001b[38;5;124;43m\"\u001b[39;49m\u001b[38;5;124;43mLutgen bir sayi giriniz\u001b[39;49m\u001b[38;5;124;43m\"\u001b[39;49m\u001b[43m)\u001b[49m\u001b[43m)\u001b[49m;\n\u001b[0;32m      2\u001b[0m \u001b[38;5;28mprint\u001b[39m(\u001b[38;5;124m\"\u001b[39m\u001b[38;5;124mGirdiginiz sayi :\u001b[39m\u001b[38;5;124m\"\u001b[39m, x)\n",
      "\u001b[1;31mValueError\u001b[0m: invalid literal for int() with base 10: 'yirmi'"
     ]
    }
   ],
   "source": [
    "x = int(input(\"Lutgen bir sayi giriniz\"));\n",
    "print(\"Girdiginiz sayi :\", x)\n",
    "\n",
    "# sayi olarak yirmi seklinde girilirse hata verir."
   ]
  },
  {
   "cell_type": "code",
   "execution_count": 10,
   "metadata": {},
   "outputs": [
    {
     "name": "stdout",
     "output_type": "stream",
     "text": [
      "Hatali giris yaptiniz.\n"
     ]
    }
   ],
   "source": [
    "try:\n",
    "    x = int(input(\"Lutgen bir sayi giriniz\"));\n",
    "    if x > 0 and x in int:\n",
    "        print(\"Girdiginiz sayi :\", x)\n",
    "except:\n",
    "    print(\"Hatali giris yaptiniz.\")"
   ]
  },
  {
   "cell_type": "code",
   "execution_count": 11,
   "metadata": {},
   "outputs": [
    {
     "name": "stdout",
     "output_type": "stream",
     "text": [
      "Hatayi gosterme bana,sadece calis\n",
      "9\n"
     ]
    }
   ],
   "source": [
    "try:\n",
    "    \"4\" + 5 \n",
    "except:\n",
    "    print(\"Hatayi gosterme bana,sadece calis\")\n",
    "    print(4+5)"
   ]
  },
  {
   "cell_type": "code",
   "execution_count": 12,
   "metadata": {},
   "outputs": [
    {
     "name": "stdout",
     "output_type": "stream",
     "text": [
      "44444\n"
     ]
    }
   ],
   "source": [
    "try:\n",
    "    print(\"4\" * 5)\n",
    "except:\n",
    "    print(\"Hatayi gosterme bana\")"
   ]
  },
  {
   "cell_type": "code",
   "execution_count": 13,
   "metadata": {},
   "outputs": [
    {
     "name": "stdout",
     "output_type": "stream",
     "text": [
      "Hata TypeError oldugu icin ben calistim\n"
     ]
    }
   ],
   "source": [
    "try:\n",
    "    print(\"4\"+ 5)\n",
    "except TypeError:\n",
    "    print(\"Hata TypeError oldugu icin ben calistim\")"
   ]
  },
  {
   "cell_type": "code",
   "execution_count": 14,
   "metadata": {},
   "outputs": [
    {
     "name": "stdout",
     "output_type": "stream",
     "text": [
      "Hata TypeError oldugundan ben calistim\n"
     ]
    }
   ],
   "source": [
    "try:\n",
    "    print(\"4\"+ 5)\n",
    "except NameError:\n",
    "    print(\"Hata NameError hatasi oldugundan ben calistim\")\n",
    "except TypeError:\n",
    "    print(\"Hata TypeError oldugundan ben calistim\")"
   ]
  },
  {
   "cell_type": "code",
   "execution_count": 15,
   "metadata": {},
   "outputs": [
    {
     "ename": "ValueError",
     "evalue": "invalid literal for int() with base 10: 'on'",
     "output_type": "error",
     "traceback": [
      "\u001b[1;31m---------------------------------------------------------------------------\u001b[0m",
      "\u001b[1;31mValueError\u001b[0m                                Traceback (most recent call last)",
      "Cell \u001b[1;32mIn[15], line 1\u001b[0m\n\u001b[1;32m----> 1\u001b[0m x \u001b[38;5;241m=\u001b[39m\u001b[38;5;28;43mint\u001b[39;49m\u001b[43m(\u001b[49m\u001b[38;5;28;43minput\u001b[39;49m\u001b[43m(\u001b[49m\u001b[38;5;124;43m\"\u001b[39;49m\u001b[38;5;124;43mBir sayi giriniz\u001b[39;49m\u001b[38;5;124;43m\"\u001b[39;49m\u001b[43m)\u001b[49m\u001b[43m)\u001b[49m\n\u001b[0;32m      2\u001b[0m y \u001b[38;5;241m=\u001b[39m \u001b[38;5;28mint\u001b[39m(\u001b[38;5;28minput\u001b[39m(\u001b[38;5;124m\"\u001b[39m\u001b[38;5;124mBaska bir sayi giriniz\u001b[39m\u001b[38;5;124m\"\u001b[39m))\n\u001b[0;32m      4\u001b[0m \u001b[38;5;28;01mtry\u001b[39;00m:\n",
      "\u001b[1;31mValueError\u001b[0m: invalid literal for int() with base 10: 'on'"
     ]
    }
   ],
   "source": [
    "x =int(input(\"Bir sayi giriniz\"))\n",
    "y = int(input(\"Baska bir sayi giriniz\"))\n",
    "\n",
    "try:\n",
    "    print(x/y)\n",
    "except:\n",
    "    print(\"Bu yaziyi goruyorsaniz sailarda hata var demektir.\")"
   ]
  },
  {
   "cell_type": "code",
   "execution_count": 17,
   "metadata": {},
   "outputs": [
    {
     "name": "stdout",
     "output_type": "stream",
     "text": [
      "bu yaziyi goruyorsaniz sayilarda hata var demektir.\n"
     ]
    }
   ],
   "source": [
    "x = input(\"bir sayi giriniz\")\n",
    "y =input(\"baska bir sayi giriniz\")\n",
    "\n",
    "try:\n",
    "    print(int(x)/ int(y))\n",
    "except:\n",
    "    print(\"bu yaziyi goruyorsaniz sayilarda hata var demektir.\")"
   ]
  },
  {
   "cell_type": "code",
   "execution_count": 27,
   "metadata": {},
   "outputs": [
    {
     "name": "stdout",
     "output_type": "stream",
     "text": [
      "6.0\n"
     ]
    }
   ],
   "source": [
    "x = input(\"bir sayi giriniz\")\n",
    "y =input(\"baska bir sayi giriniz\")\n",
    "\n",
    "try:\n",
    "    print(int(x)/ int(y))\n",
    "except(ValueError ,ZeroDivisionError):\n",
    "    print(\"Lutfen sayiyi tam sayi formatinda giriniz\")"
   ]
  },
  {
   "cell_type": "code",
   "execution_count": 23,
   "metadata": {},
   "outputs": [
    {
     "name": "stdout",
     "output_type": "stream",
     "text": [
      "Sifir ile bolmek mumkun degil\n"
     ]
    }
   ],
   "source": [
    "x = input(\"bir sayi giriniz\")\n",
    "y =input(\"baska bir sayi giriniz\")\n",
    "\n",
    "try:\n",
    "    print(int(x)/ int(y))\n",
    "except ValueError:\n",
    "    print(\"Lutfen sayiyi tam sayi formatinda giriniz\")\n",
    "except ZeroDivisionError:\n",
    "    print(\"Sifir ile bolmek mumkun degil\")\n",
    "          \n",
    "          "
   ]
  },
  {
   "cell_type": "code",
   "execution_count": 29,
   "metadata": {},
   "outputs": [
    {
     "name": "stdout",
     "output_type": "stream",
     "text": [
      "Sifir ile bolmek mumkun degil\n"
     ]
    }
   ],
   "source": [
    "x = input(\"bir sayi giriniz\")\n",
    "y =input(\"baska bir sayi giriniz\")\n",
    "\n",
    "try:\n",
    "    print(int(x)/ int(y))\n",
    "except ValueError:\n",
    "    print(\"Lutfen sayiyi tam sayi formatinda giriniz\")\n",
    "except ZeroDivisionError:\n",
    "    print(\"Sifir ile bolmek mumkun degil\")\n",
    "except Exception as hata :\n",
    "    print(\"Hata nedir cozemedim\")\n",
    "    print(f\"buradaki hata:{hata}\")\n",
    "          "
   ]
  },
  {
   "cell_type": "markdown",
   "metadata": {},
   "source": [
    "soru :kullanicidan iki sayi aliniz.Sayilari birbirine bolunuz.\n",
    "Bolunmus halini listeye ekleyiniz.Listede 3 eleman olana kadar isleme devam ediniz."
   ]
  },
  {
   "cell_type": "code",
   "execution_count": 30,
   "metadata": {},
   "outputs": [
    {
     "name": "stdout",
     "output_type": "stream",
     "text": [
      "Hatali giris yaptiniz.Lutfen rakamlar giriniz\n",
      "Hatali giris yaptiniz.Lutfen rakamlar giriniz\n",
      "Hatali giris yaptiniz.Lutfen rakamlar giriniz\n",
      "Hatali giris yaptiniz.Lutfen rakamlar giriniz\n",
      "Sayi 0`a bolunemez\n",
      "[1.5333333333333334, 0.6, 133.33333333333334]\n"
     ]
    }
   ],
   "source": [
    "liste =[]\n",
    "while True:\n",
    "    x =input(\"lutfen bir sayi giriniz\")\n",
    "    y = input (\"lutfen 2.sayiyi giriniz\")\n",
    "    try:\n",
    "        a =int(x) /int(y)\n",
    "    except ValueError:\n",
    "        print(\"Hatali giris yaptiniz.Lutfen rakamlar giriniz\")\n",
    "    except ZeroDivisionError:\n",
    "        print(\"Sayi 0`a bolunemez\")\n",
    "    else:\n",
    "        liste.append(a)\n",
    "        if len(liste)== 3:\n",
    "            break\n",
    "print(liste)\n",
    "\n"
   ]
  },
  {
   "cell_type": "markdown",
   "metadata": {},
   "source": [
    "soru : kullanicidan bir sayi alin ve karesini bulun "
   ]
  },
  {
   "cell_type": "code",
   "execution_count": 36,
   "metadata": {},
   "outputs": [
    {
     "name": "stdout",
     "output_type": "stream",
     "text": [
      "hatali giris yaptiniz.Tekrar bir sayi giriniz\n",
      "25\n"
     ]
    }
   ],
   "source": [
    "while True:\n",
    "    try:\n",
    "        x = int(input(\"bir sayi giriniz\"))\n",
    "        break\n",
    "    except:\n",
    "        print(\"hatali giris yaptiniz.Tekrar bir sayi giriniz\")\n",
    "print(x ** 2)        "
   ]
  },
  {
   "cell_type": "code",
   "execution_count": null,
   "metadata": {},
   "outputs": [],
   "source": []
  }
 ],
 "metadata": {
  "kernelspec": {
   "display_name": "Python 3",
   "language": "python",
   "name": "python3"
  },
  "language_info": {
   "codemirror_mode": {
    "name": "ipython",
    "version": 3
   },
   "file_extension": ".py",
   "mimetype": "text/x-python",
   "name": "python",
   "nbconvert_exporter": "python",
   "pygments_lexer": "ipython3",
   "version": "3.12.1"
  }
 },
 "nbformat": 4,
 "nbformat_minor": 2
}
